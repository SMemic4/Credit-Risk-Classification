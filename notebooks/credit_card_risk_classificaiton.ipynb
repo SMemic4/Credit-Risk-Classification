{
 "cells": [
  {
   "cell_type": "markdown",
   "metadata": {},
   "source": [
    "# Credit Card Risk Classification"
   ]
  },
  {
   "cell_type": "markdown",
   "metadata": {},
   "source": [
    "---"
   ]
  },
  {
   "cell_type": "markdown",
   "metadata": {},
   "source": [
    "## Modules and Setup"
   ]
  },
  {
   "cell_type": "code",
   "execution_count": 230,
   "metadata": {},
   "outputs": [],
   "source": [
    "import os as os\n",
    "from IPython.display import Markdown, display\n",
    "import numpy as np\n",
    "import pandas.api.types as ptypes\n",
    "import pandas as pd\n",
    "from scipy.stats import norm\n",
    "from ucimlrepo import fetch_ucirepo \n",
    "import matplotlib.pyplot as plt "
   ]
  },
  {
   "cell_type": "markdown",
   "metadata": {},
   "source": [
    "---"
   ]
  },
  {
   "cell_type": "markdown",
   "metadata": {},
   "source": [
    "## 1. Project Overview"
   ]
  },
  {
   "cell_type": "markdown",
   "metadata": {},
   "source": [
    "This project involves developing a machine learning model to classify individuals as low or high credit risks based on their attributes. Using a publicly available dataset, the goal is to accurately predict credit risk while exploring the underlying data and applying advanced modeling techniques."
   ]
  },
  {
   "cell_type": "markdown",
   "metadata": {},
   "source": [
    "---"
   ]
  },
  {
   "cell_type": "markdown",
   "metadata": {},
   "source": [
    "## 2. Objectives"
   ]
  },
  {
   "cell_type": "markdown",
   "metadata": {},
   "source": [
    "1. Perform exploratory data analysis (EDA) to understand the dataset and identify patterns\n",
    "2. Preprocess and clean the data to prepare it for modeling\n",
    "3. Build, evaluate, and compare multiple classification models\n",
    "4. Interpret model results and provide further understanding of credit risk"
   ]
  },
  {
   "cell_type": "markdown",
   "metadata": {},
   "source": [
    "---"
   ]
  },
  {
   "cell_type": "markdown",
   "metadata": {},
   "source": [
    "## 3. Dataset"
   ]
  },
  {
   "cell_type": "markdown",
   "metadata": {},
   "source": [
    "The [German Credit Risk](https://archive.ics.uci.edu/dataset/144/statlog+german+credit+data) includes attributes related to individuals' financial history and demographics, with a target variable indicating whether they are a low or high credit risk."
   ]
  },
  {
   "cell_type": "markdown",
   "metadata": {},
   "source": [
    "---"
   ]
  },
  {
   "cell_type": "markdown",
   "metadata": {},
   "source": [
    "## 4. Workflow"
   ]
  },
  {
   "cell_type": "markdown",
   "metadata": {},
   "source": [
    "### 4.1. Loading and Tidying the Data"
   ]
  },
  {
   "cell_type": "code",
   "execution_count": 175,
   "metadata": {},
   "outputs": [],
   "source": [
    "credit_risk = fetch_ucirepo(id=144) \n",
    "X_coded = credit_risk.data.features \n",
    "y_coded = credit_risk.data.targets"
   ]
  },
  {
   "cell_type": "code",
   "execution_count": 176,
   "metadata": {},
   "outputs": [
    {
     "data": {
      "text/html": [
       "<div>\n",
       "<style scoped>\n",
       "    .dataframe tbody tr th:only-of-type {\n",
       "        vertical-align: middle;\n",
       "    }\n",
       "\n",
       "    .dataframe tbody tr th {\n",
       "        vertical-align: top;\n",
       "    }\n",
       "\n",
       "    .dataframe thead th {\n",
       "        text-align: right;\n",
       "    }\n",
       "</style>\n",
       "<table border=\"1\" class=\"dataframe\">\n",
       "  <thead>\n",
       "    <tr style=\"text-align: right;\">\n",
       "      <th></th>\n",
       "      <th>Attribute1</th>\n",
       "      <th>Attribute2</th>\n",
       "      <th>Attribute3</th>\n",
       "      <th>Attribute4</th>\n",
       "      <th>Attribute5</th>\n",
       "      <th>Attribute6</th>\n",
       "      <th>Attribute7</th>\n",
       "      <th>Attribute8</th>\n",
       "      <th>Attribute9</th>\n",
       "      <th>Attribute10</th>\n",
       "      <th>Attribute11</th>\n",
       "      <th>Attribute12</th>\n",
       "      <th>Attribute13</th>\n",
       "      <th>Attribute14</th>\n",
       "      <th>Attribute15</th>\n",
       "      <th>Attribute16</th>\n",
       "      <th>Attribute17</th>\n",
       "      <th>Attribute18</th>\n",
       "      <th>Attribute19</th>\n",
       "      <th>Attribute20</th>\n",
       "    </tr>\n",
       "  </thead>\n",
       "  <tbody>\n",
       "    <tr>\n",
       "      <th>0</th>\n",
       "      <td>A11</td>\n",
       "      <td>6</td>\n",
       "      <td>A34</td>\n",
       "      <td>A43</td>\n",
       "      <td>1169</td>\n",
       "      <td>A65</td>\n",
       "      <td>A75</td>\n",
       "      <td>4</td>\n",
       "      <td>A93</td>\n",
       "      <td>A101</td>\n",
       "      <td>4</td>\n",
       "      <td>A121</td>\n",
       "      <td>67</td>\n",
       "      <td>A143</td>\n",
       "      <td>A152</td>\n",
       "      <td>2</td>\n",
       "      <td>A173</td>\n",
       "      <td>1</td>\n",
       "      <td>A192</td>\n",
       "      <td>A201</td>\n",
       "    </tr>\n",
       "    <tr>\n",
       "      <th>1</th>\n",
       "      <td>A12</td>\n",
       "      <td>48</td>\n",
       "      <td>A32</td>\n",
       "      <td>A43</td>\n",
       "      <td>5951</td>\n",
       "      <td>A61</td>\n",
       "      <td>A73</td>\n",
       "      <td>2</td>\n",
       "      <td>A92</td>\n",
       "      <td>A101</td>\n",
       "      <td>2</td>\n",
       "      <td>A121</td>\n",
       "      <td>22</td>\n",
       "      <td>A143</td>\n",
       "      <td>A152</td>\n",
       "      <td>1</td>\n",
       "      <td>A173</td>\n",
       "      <td>1</td>\n",
       "      <td>A191</td>\n",
       "      <td>A201</td>\n",
       "    </tr>\n",
       "    <tr>\n",
       "      <th>2</th>\n",
       "      <td>A14</td>\n",
       "      <td>12</td>\n",
       "      <td>A34</td>\n",
       "      <td>A46</td>\n",
       "      <td>2096</td>\n",
       "      <td>A61</td>\n",
       "      <td>A74</td>\n",
       "      <td>2</td>\n",
       "      <td>A93</td>\n",
       "      <td>A101</td>\n",
       "      <td>3</td>\n",
       "      <td>A121</td>\n",
       "      <td>49</td>\n",
       "      <td>A143</td>\n",
       "      <td>A152</td>\n",
       "      <td>1</td>\n",
       "      <td>A172</td>\n",
       "      <td>2</td>\n",
       "      <td>A191</td>\n",
       "      <td>A201</td>\n",
       "    </tr>\n",
       "    <tr>\n",
       "      <th>3</th>\n",
       "      <td>A11</td>\n",
       "      <td>42</td>\n",
       "      <td>A32</td>\n",
       "      <td>A42</td>\n",
       "      <td>7882</td>\n",
       "      <td>A61</td>\n",
       "      <td>A74</td>\n",
       "      <td>2</td>\n",
       "      <td>A93</td>\n",
       "      <td>A103</td>\n",
       "      <td>4</td>\n",
       "      <td>A122</td>\n",
       "      <td>45</td>\n",
       "      <td>A143</td>\n",
       "      <td>A153</td>\n",
       "      <td>1</td>\n",
       "      <td>A173</td>\n",
       "      <td>2</td>\n",
       "      <td>A191</td>\n",
       "      <td>A201</td>\n",
       "    </tr>\n",
       "    <tr>\n",
       "      <th>4</th>\n",
       "      <td>A11</td>\n",
       "      <td>24</td>\n",
       "      <td>A33</td>\n",
       "      <td>A40</td>\n",
       "      <td>4870</td>\n",
       "      <td>A61</td>\n",
       "      <td>A73</td>\n",
       "      <td>3</td>\n",
       "      <td>A93</td>\n",
       "      <td>A101</td>\n",
       "      <td>4</td>\n",
       "      <td>A124</td>\n",
       "      <td>53</td>\n",
       "      <td>A143</td>\n",
       "      <td>A153</td>\n",
       "      <td>2</td>\n",
       "      <td>A173</td>\n",
       "      <td>2</td>\n",
       "      <td>A191</td>\n",
       "      <td>A201</td>\n",
       "    </tr>\n",
       "  </tbody>\n",
       "</table>\n",
       "</div>"
      ],
      "text/plain": [
       "  Attribute1  Attribute2 Attribute3 Attribute4  Attribute5 Attribute6  \\\n",
       "0        A11           6        A34        A43        1169        A65   \n",
       "1        A12          48        A32        A43        5951        A61   \n",
       "2        A14          12        A34        A46        2096        A61   \n",
       "3        A11          42        A32        A42        7882        A61   \n",
       "4        A11          24        A33        A40        4870        A61   \n",
       "\n",
       "  Attribute7  Attribute8 Attribute9 Attribute10  Attribute11 Attribute12  \\\n",
       "0        A75           4        A93        A101            4        A121   \n",
       "1        A73           2        A92        A101            2        A121   \n",
       "2        A74           2        A93        A101            3        A121   \n",
       "3        A74           2        A93        A103            4        A122   \n",
       "4        A73           3        A93        A101            4        A124   \n",
       "\n",
       "   Attribute13 Attribute14 Attribute15  Attribute16 Attribute17  Attribute18  \\\n",
       "0           67        A143        A152            2        A173            1   \n",
       "1           22        A143        A152            1        A173            1   \n",
       "2           49        A143        A152            1        A172            2   \n",
       "3           45        A143        A153            1        A173            2   \n",
       "4           53        A143        A153            2        A173            2   \n",
       "\n",
       "  Attribute19 Attribute20  \n",
       "0        A192        A201  \n",
       "1        A191        A201  \n",
       "2        A191        A201  \n",
       "3        A191        A201  \n",
       "4        A191        A201  "
      ]
     },
     "execution_count": 176,
     "metadata": {},
     "output_type": "execute_result"
    }
   ],
   "source": [
    "X_coded.head() # Display the features of the dataset"
   ]
  },
  {
   "cell_type": "code",
   "execution_count": 177,
   "metadata": {},
   "outputs": [
    {
     "data": {
      "text/html": [
       "<div>\n",
       "<style scoped>\n",
       "    .dataframe tbody tr th:only-of-type {\n",
       "        vertical-align: middle;\n",
       "    }\n",
       "\n",
       "    .dataframe tbody tr th {\n",
       "        vertical-align: top;\n",
       "    }\n",
       "\n",
       "    .dataframe thead th {\n",
       "        text-align: right;\n",
       "    }\n",
       "</style>\n",
       "<table border=\"1\" class=\"dataframe\">\n",
       "  <thead>\n",
       "    <tr style=\"text-align: right;\">\n",
       "      <th></th>\n",
       "      <th>class</th>\n",
       "    </tr>\n",
       "  </thead>\n",
       "  <tbody>\n",
       "    <tr>\n",
       "      <th>0</th>\n",
       "      <td>1</td>\n",
       "    </tr>\n",
       "    <tr>\n",
       "      <th>1</th>\n",
       "      <td>2</td>\n",
       "    </tr>\n",
       "    <tr>\n",
       "      <th>2</th>\n",
       "      <td>1</td>\n",
       "    </tr>\n",
       "    <tr>\n",
       "      <th>3</th>\n",
       "      <td>1</td>\n",
       "    </tr>\n",
       "    <tr>\n",
       "      <th>4</th>\n",
       "      <td>2</td>\n",
       "    </tr>\n",
       "  </tbody>\n",
       "</table>\n",
       "</div>"
      ],
      "text/plain": [
       "   class\n",
       "0      1\n",
       "1      2\n",
       "2      1\n",
       "3      1\n",
       "4      2"
      ]
     },
     "execution_count": 177,
     "metadata": {},
     "output_type": "execute_result"
    }
   ],
   "source": [
    "y_coded.head() # Labels"
   ]
  },
  {
   "cell_type": "code",
   "execution_count": 178,
   "metadata": {},
   "outputs": [
    {
     "data": {
      "text/markdown": [
       "The DataFrame contains **1000 rows** and **20 columns**."
      ],
      "text/plain": [
       "<IPython.core.display.Markdown object>"
      ]
     },
     "metadata": {},
     "output_type": "display_data"
    }
   ],
   "source": [
    "rows, cols = X_coded.shape\n",
    "text = f\"The DataFrame contains **{rows} rows** and **{cols} columns**.\"\n",
    "display(Markdown(text))"
   ]
  },
  {
   "cell_type": "code",
   "execution_count": 179,
   "metadata": {},
   "outputs": [
    {
     "name": "stdout",
     "output_type": "stream",
     "text": [
      "<class 'pandas.core.frame.DataFrame'>\n",
      "RangeIndex: 1000 entries, 0 to 999\n",
      "Data columns (total 20 columns):\n",
      " #   Column       Non-Null Count  Dtype \n",
      "---  ------       --------------  ----- \n",
      " 0   Attribute1   1000 non-null   object\n",
      " 1   Attribute2   1000 non-null   int64 \n",
      " 2   Attribute3   1000 non-null   object\n",
      " 3   Attribute4   1000 non-null   object\n",
      " 4   Attribute5   1000 non-null   int64 \n",
      " 5   Attribute6   1000 non-null   object\n",
      " 6   Attribute7   1000 non-null   object\n",
      " 7   Attribute8   1000 non-null   int64 \n",
      " 8   Attribute9   1000 non-null   object\n",
      " 9   Attribute10  1000 non-null   object\n",
      " 10  Attribute11  1000 non-null   int64 \n",
      " 11  Attribute12  1000 non-null   object\n",
      " 12  Attribute13  1000 non-null   int64 \n",
      " 13  Attribute14  1000 non-null   object\n",
      " 14  Attribute15  1000 non-null   object\n",
      " 15  Attribute16  1000 non-null   int64 \n",
      " 16  Attribute17  1000 non-null   object\n",
      " 17  Attribute18  1000 non-null   int64 \n",
      " 18  Attribute19  1000 non-null   object\n",
      " 19  Attribute20  1000 non-null   object\n",
      "dtypes: int64(7), object(13)\n",
      "memory usage: 156.4+ KB\n"
     ]
    }
   ],
   "source": [
    "X_coded.info()"
   ]
  },
  {
   "cell_type": "markdown",
   "metadata": {},
   "source": [
    "The DataFrame has no missing values, but all of the variables are encoded. All categorical variables will be decoded."
   ]
  },
  {
   "cell_type": "markdown",
   "metadata": {},
   "source": [
    "### 4.1.1 Decoding the Variables"
   ]
  },
  {
   "cell_type": "markdown",
   "metadata": {},
   "source": [
    "The values will be decoded based on their definitions in the *german* Word document. Since each attribute is unique to its respective column, all mappings will be combined into a single comprehensive dictionary. The qualitative labels will be shortened for clarity and conciseness."
   ]
  },
  {
   "cell_type": "code",
   "execution_count": 180,
   "metadata": {},
   "outputs": [],
   "source": [
    "attribute1_mapping = {\n",
    "    \"A11\": \"<0 DM\",               # Less than 0 DM\n",
    "    \"A12\": \"0<= ...<200 DM\",      # Between 0 and 200 DM\n",
    "    \"A13\": \">=200 DM\",            # Greater than or equal to 200 DM or salary commitments\n",
    "    \"A14\": \"No checking account\"  # No checking account\n",
    "}\n",
    "\n",
    "attribute3_mapping = {\n",
    "    \"A30\": \"No credits/perfect\",    # No credits or perfect repayment\n",
    "    \"A31\": \"Perfect at bank\",       # Perfect repayment at this bank\n",
    "    \"A32\": \"Good repayment\",        # Good current repayment\n",
    "    \"A33\": \"Delays\",                # History of delays\n",
    "    \"A34\": \"Critical/other credits\" # High-risk or external credits\n",
    "}\n",
    "\n",
    "attribute4_mapping = {\n",
    "    \"A40\": \"New car\",\n",
    "    \"A41\": \"Used car\",\n",
    "    \"A42\": \"Furniture/equipment\",\n",
    "    \"A43\": \"Radio/TV\",\n",
    "    \"A44\": \"Appliances\",\n",
    "    \"A45\": \"Repairs\",\n",
    "    \"A46\": \"Education\",\n",
    "    \"A47\": \"Vacation (not used)\",\n",
    "    \"A48\": \"Retraining\",\n",
    "    \"A49\": \"Business\",\n",
    "    \"A410\": \"Others\"\n",
    "}\n",
    "\n",
    "attribute6_mapping = {\n",
    "    \"A61\": \"<100 DM\",        # Less than 100 DM\n",
    "    \"A62\": \"100-499 DM\",     # Between 100 and 499 DM\n",
    "    \"A63\": \"500-999 DM\",     # Between 500 and 999 DM\n",
    "    \"A64\": \">=1000 DM\",      # 1000 DM or more\n",
    "    \"A65\": \"Unknown/None\"    # Unknown or no savings account\n",
    "}\n",
    "\n",
    "attribute7_mapping = {\n",
    "    \"A71\": \"Unemployed\",    # No current employment\n",
    "    \"A72\": \"<1 year\",       # Less than 1 year\n",
    "    \"A73\": \"1-3 years\",     # Between 1 and 3 years\n",
    "    \"A74\": \"4-6 years\",     # Between 4 and 6 years\n",
    "    \"A75\": \">=7 years\"      # 7 years or more\n",
    "}\n",
    "\n",
    "attribute9_mapping = {\n",
    "    \"A91\": \"Male: divorced/separated\",  # Male, divorced or separated\n",
    "    \"A92\": \"Female: divorced/married\",  # Female, divorced, separated, or married\n",
    "    \"A93\": \"Male: single\",              # Male, single\n",
    "    \"A94\": \"Male: married/widowed\",     # Male, married or widowed\n",
    "    \"A95\": \"Female: single\"             # Female, single\n",
    "}\n",
    "\n",
    "attribute10_mapping = {\n",
    "    \"A101\": \"None\",          # No other debtors or guarantors\n",
    "    \"A102\": \"Co-signer\",     # Co-signer is involved\n",
    "    \"A103\": \"Guarantor\"      # Guarantor is involved\n",
    "}\n",
    "\n",
    "attribute12_mapping = {\n",
    "    \"A121\": \"Real estate\",            # Owns real estate\n",
    "    \"A122\": \"Savings/life insurance\", # Building society savings or life insurance (if not real estate)\n",
    "    \"A123\": \"Car/other property\",     # Car or other property (if not real estate or savings)\n",
    "    \"A124\": \"Unknown/None\"            # No property or unknown\n",
    "}\n",
    "\n",
    "attribute14_mapping = {\n",
    "    \"A141\": \"Bank\",    # Installment plan through a bank\n",
    "    \"A142\": \"Stores\",  # Installment plan through stores\n",
    "    \"A143\": \"None\"     # No installment plan\n",
    "}\n",
    "\n",
    "attribute15_mapping = {\n",
    "    \"A151\": \"Rent\",       # Renting a property\n",
    "    \"A152\": \"Own\",        # Owns a property\n",
    "    \"A153\": \"For free\"    # Lives for free (e.g., provided housing)\n",
    "}\n",
    "\n",
    "attribute17_mapping = {\n",
    "    \"A171\": \"Unemployed/non-resident\",      # Unemployed or unskilled, non-resident\n",
    "    \"A172\": \"Unskilled/resident\",           # Unskilled but resident\n",
    "    \"A173\": \"Skilled employee\",             # Skilled employee or official\n",
    "    \"A174\": \"Management/highly qualified\",  # Management, self-employed, or highly qualified\n",
    "}\n",
    "\n",
    "attribute19_mapping = {\n",
    "    \"A191\": \"None\",       # No telephone\n",
    "    \"A192\": \"Yes\",        # Registered Telephone\n",
    "}\n",
    "\n",
    "attribute20_mapping = {\n",
    "    \"A201\": \"Yes\",  # Is a foreign worker\n",
    "    \"A202\": \"No\"    # Is not a foreign worker\n",
    "}\n",
    "\n",
    "y_mapping = {\n",
    "    1 : 'Low Risk',   # Individuals with good credit \n",
    "    2 : 'High Risk'   # Indididuals with bad credit\n",
    "}\n"
   ]
  },
  {
   "cell_type": "markdown",
   "metadata": {},
   "source": [
    "The dictionaries will be combined together into a single dictionary"
   ]
  },
  {
   "cell_type": "code",
   "execution_count": 181,
   "metadata": {},
   "outputs": [],
   "source": [
    "all_attributes_mapping = (\n",
    "    attribute1_mapping\n",
    "    | attribute3_mapping\n",
    "    | attribute4_mapping\n",
    "    | attribute6_mapping\n",
    "    | attribute7_mapping\n",
    "    | attribute9_mapping\n",
    "    | attribute10_mapping\n",
    "    | attribute12_mapping\n",
    "    | attribute14_mapping\n",
    "    | attribute15_mapping\n",
    "    | attribute17_mapping\n",
    "    | attribute19_mapping\n",
    "    | attribute20_mapping\n",
    ")"
   ]
  },
  {
   "cell_type": "markdown",
   "metadata": {},
   "source": [
    "The targets will be decoded."
   ]
  },
  {
   "cell_type": "code",
   "execution_count": 182,
   "metadata": {},
   "outputs": [
    {
     "data": {
      "text/plain": [
       "0       Low Risk\n",
       "1      High Risk\n",
       "2       Low Risk\n",
       "3       Low Risk\n",
       "4      High Risk\n",
       "         ...    \n",
       "995     Low Risk\n",
       "996     Low Risk\n",
       "997     Low Risk\n",
       "998    High Risk\n",
       "999     Low Risk\n",
       "Name: class, Length: 1000, dtype: object"
      ]
     },
     "execution_count": 182,
     "metadata": {},
     "output_type": "execute_result"
    }
   ],
   "source": [
    "y = y_coded['class'].map(y_mapping).copy()\n",
    "y\n"
   ]
  },
  {
   "cell_type": "markdown",
   "metadata": {},
   "source": [
    "Decoding all non-numerical features:"
   ]
  },
  {
   "cell_type": "code",
   "execution_count": 183,
   "metadata": {},
   "outputs": [],
   "source": [
    "def df_decode(df:pd.DataFrame, dict:dict) -> pd.DataFrame:\n",
    "    '''\n",
    "    Replaces the values of the Dataframe with the ones within the dictionary\n",
    "    parameters:\n",
    "    df - A pandas dataframe\n",
    "    dict - A non-nested dictionary with the values to replace key values\n",
    "    Returns: A DataFrame\n",
    "    '''\n",
    "    df2 = df.copy()\n",
    "    for i in range(0, df2.shape[1]):\n",
    "        if ptypes.is_object_dtype(df.iloc[:, i]):\n",
    "            df2.iloc[:, i] = df.iloc[:, i].map(dict)\n",
    "    return df2"
   ]
  },
  {
   "cell_type": "code",
   "execution_count": 184,
   "metadata": {},
   "outputs": [
    {
     "data": {
      "text/html": [
       "<div>\n",
       "<style scoped>\n",
       "    .dataframe tbody tr th:only-of-type {\n",
       "        vertical-align: middle;\n",
       "    }\n",
       "\n",
       "    .dataframe tbody tr th {\n",
       "        vertical-align: top;\n",
       "    }\n",
       "\n",
       "    .dataframe thead th {\n",
       "        text-align: right;\n",
       "    }\n",
       "</style>\n",
       "<table border=\"1\" class=\"dataframe\">\n",
       "  <thead>\n",
       "    <tr style=\"text-align: right;\">\n",
       "      <th></th>\n",
       "      <th>Attribute1</th>\n",
       "      <th>Attribute2</th>\n",
       "      <th>Attribute3</th>\n",
       "      <th>Attribute4</th>\n",
       "      <th>Attribute5</th>\n",
       "      <th>Attribute6</th>\n",
       "      <th>Attribute7</th>\n",
       "      <th>Attribute8</th>\n",
       "      <th>Attribute9</th>\n",
       "      <th>Attribute10</th>\n",
       "      <th>Attribute11</th>\n",
       "      <th>Attribute12</th>\n",
       "      <th>Attribute13</th>\n",
       "      <th>Attribute14</th>\n",
       "      <th>Attribute15</th>\n",
       "      <th>Attribute16</th>\n",
       "      <th>Attribute17</th>\n",
       "      <th>Attribute18</th>\n",
       "      <th>Attribute19</th>\n",
       "      <th>Attribute20</th>\n",
       "    </tr>\n",
       "  </thead>\n",
       "  <tbody>\n",
       "    <tr>\n",
       "      <th>0</th>\n",
       "      <td>&lt;0 DM</td>\n",
       "      <td>6</td>\n",
       "      <td>Critical/other credits</td>\n",
       "      <td>Radio/TV</td>\n",
       "      <td>1169</td>\n",
       "      <td>Unknown/None</td>\n",
       "      <td>&gt;=7 years</td>\n",
       "      <td>4</td>\n",
       "      <td>Male: single</td>\n",
       "      <td>None</td>\n",
       "      <td>4</td>\n",
       "      <td>Real estate</td>\n",
       "      <td>67</td>\n",
       "      <td>None</td>\n",
       "      <td>Own</td>\n",
       "      <td>2</td>\n",
       "      <td>Skilled employee</td>\n",
       "      <td>1</td>\n",
       "      <td>Yes</td>\n",
       "      <td>Yes</td>\n",
       "    </tr>\n",
       "    <tr>\n",
       "      <th>1</th>\n",
       "      <td>0&lt;= ...&lt;200 DM</td>\n",
       "      <td>48</td>\n",
       "      <td>Good repayment</td>\n",
       "      <td>Radio/TV</td>\n",
       "      <td>5951</td>\n",
       "      <td>&lt;100 DM</td>\n",
       "      <td>1-3 years</td>\n",
       "      <td>2</td>\n",
       "      <td>Female: divorced/married</td>\n",
       "      <td>None</td>\n",
       "      <td>2</td>\n",
       "      <td>Real estate</td>\n",
       "      <td>22</td>\n",
       "      <td>None</td>\n",
       "      <td>Own</td>\n",
       "      <td>1</td>\n",
       "      <td>Skilled employee</td>\n",
       "      <td>1</td>\n",
       "      <td>None</td>\n",
       "      <td>Yes</td>\n",
       "    </tr>\n",
       "    <tr>\n",
       "      <th>2</th>\n",
       "      <td>No checking account</td>\n",
       "      <td>12</td>\n",
       "      <td>Critical/other credits</td>\n",
       "      <td>Education</td>\n",
       "      <td>2096</td>\n",
       "      <td>&lt;100 DM</td>\n",
       "      <td>4-6 years</td>\n",
       "      <td>2</td>\n",
       "      <td>Male: single</td>\n",
       "      <td>None</td>\n",
       "      <td>3</td>\n",
       "      <td>Real estate</td>\n",
       "      <td>49</td>\n",
       "      <td>None</td>\n",
       "      <td>Own</td>\n",
       "      <td>1</td>\n",
       "      <td>Unskilled/resident</td>\n",
       "      <td>2</td>\n",
       "      <td>None</td>\n",
       "      <td>Yes</td>\n",
       "    </tr>\n",
       "    <tr>\n",
       "      <th>3</th>\n",
       "      <td>&lt;0 DM</td>\n",
       "      <td>42</td>\n",
       "      <td>Good repayment</td>\n",
       "      <td>Furniture/equipment</td>\n",
       "      <td>7882</td>\n",
       "      <td>&lt;100 DM</td>\n",
       "      <td>4-6 years</td>\n",
       "      <td>2</td>\n",
       "      <td>Male: single</td>\n",
       "      <td>Guarantor</td>\n",
       "      <td>4</td>\n",
       "      <td>Savings/life insurance</td>\n",
       "      <td>45</td>\n",
       "      <td>None</td>\n",
       "      <td>For free</td>\n",
       "      <td>1</td>\n",
       "      <td>Skilled employee</td>\n",
       "      <td>2</td>\n",
       "      <td>None</td>\n",
       "      <td>Yes</td>\n",
       "    </tr>\n",
       "    <tr>\n",
       "      <th>4</th>\n",
       "      <td>&lt;0 DM</td>\n",
       "      <td>24</td>\n",
       "      <td>Delays</td>\n",
       "      <td>New car</td>\n",
       "      <td>4870</td>\n",
       "      <td>&lt;100 DM</td>\n",
       "      <td>1-3 years</td>\n",
       "      <td>3</td>\n",
       "      <td>Male: single</td>\n",
       "      <td>None</td>\n",
       "      <td>4</td>\n",
       "      <td>Unknown/None</td>\n",
       "      <td>53</td>\n",
       "      <td>None</td>\n",
       "      <td>For free</td>\n",
       "      <td>2</td>\n",
       "      <td>Skilled employee</td>\n",
       "      <td>2</td>\n",
       "      <td>None</td>\n",
       "      <td>Yes</td>\n",
       "    </tr>\n",
       "    <tr>\n",
       "      <th>5</th>\n",
       "      <td>No checking account</td>\n",
       "      <td>36</td>\n",
       "      <td>Good repayment</td>\n",
       "      <td>Education</td>\n",
       "      <td>9055</td>\n",
       "      <td>Unknown/None</td>\n",
       "      <td>1-3 years</td>\n",
       "      <td>2</td>\n",
       "      <td>Male: single</td>\n",
       "      <td>None</td>\n",
       "      <td>4</td>\n",
       "      <td>Unknown/None</td>\n",
       "      <td>35</td>\n",
       "      <td>None</td>\n",
       "      <td>For free</td>\n",
       "      <td>1</td>\n",
       "      <td>Unskilled/resident</td>\n",
       "      <td>2</td>\n",
       "      <td>Yes</td>\n",
       "      <td>Yes</td>\n",
       "    </tr>\n",
       "    <tr>\n",
       "      <th>6</th>\n",
       "      <td>No checking account</td>\n",
       "      <td>24</td>\n",
       "      <td>Good repayment</td>\n",
       "      <td>Furniture/equipment</td>\n",
       "      <td>2835</td>\n",
       "      <td>500-999 DM</td>\n",
       "      <td>&gt;=7 years</td>\n",
       "      <td>3</td>\n",
       "      <td>Male: single</td>\n",
       "      <td>None</td>\n",
       "      <td>4</td>\n",
       "      <td>Savings/life insurance</td>\n",
       "      <td>53</td>\n",
       "      <td>None</td>\n",
       "      <td>Own</td>\n",
       "      <td>1</td>\n",
       "      <td>Skilled employee</td>\n",
       "      <td>1</td>\n",
       "      <td>None</td>\n",
       "      <td>Yes</td>\n",
       "    </tr>\n",
       "    <tr>\n",
       "      <th>7</th>\n",
       "      <td>0&lt;= ...&lt;200 DM</td>\n",
       "      <td>36</td>\n",
       "      <td>Good repayment</td>\n",
       "      <td>Used car</td>\n",
       "      <td>6948</td>\n",
       "      <td>&lt;100 DM</td>\n",
       "      <td>1-3 years</td>\n",
       "      <td>2</td>\n",
       "      <td>Male: single</td>\n",
       "      <td>None</td>\n",
       "      <td>2</td>\n",
       "      <td>Car/other property</td>\n",
       "      <td>35</td>\n",
       "      <td>None</td>\n",
       "      <td>Rent</td>\n",
       "      <td>1</td>\n",
       "      <td>Management/highly qualified</td>\n",
       "      <td>1</td>\n",
       "      <td>Yes</td>\n",
       "      <td>Yes</td>\n",
       "    </tr>\n",
       "    <tr>\n",
       "      <th>8</th>\n",
       "      <td>No checking account</td>\n",
       "      <td>12</td>\n",
       "      <td>Good repayment</td>\n",
       "      <td>Radio/TV</td>\n",
       "      <td>3059</td>\n",
       "      <td>&gt;=1000 DM</td>\n",
       "      <td>4-6 years</td>\n",
       "      <td>2</td>\n",
       "      <td>Male: divorced/separated</td>\n",
       "      <td>None</td>\n",
       "      <td>4</td>\n",
       "      <td>Real estate</td>\n",
       "      <td>61</td>\n",
       "      <td>None</td>\n",
       "      <td>Own</td>\n",
       "      <td>1</td>\n",
       "      <td>Unskilled/resident</td>\n",
       "      <td>1</td>\n",
       "      <td>None</td>\n",
       "      <td>Yes</td>\n",
       "    </tr>\n",
       "    <tr>\n",
       "      <th>9</th>\n",
       "      <td>0&lt;= ...&lt;200 DM</td>\n",
       "      <td>30</td>\n",
       "      <td>Critical/other credits</td>\n",
       "      <td>New car</td>\n",
       "      <td>5234</td>\n",
       "      <td>&lt;100 DM</td>\n",
       "      <td>Unemployed</td>\n",
       "      <td>4</td>\n",
       "      <td>Male: married/widowed</td>\n",
       "      <td>None</td>\n",
       "      <td>2</td>\n",
       "      <td>Car/other property</td>\n",
       "      <td>28</td>\n",
       "      <td>None</td>\n",
       "      <td>Own</td>\n",
       "      <td>2</td>\n",
       "      <td>Management/highly qualified</td>\n",
       "      <td>1</td>\n",
       "      <td>None</td>\n",
       "      <td>Yes</td>\n",
       "    </tr>\n",
       "  </tbody>\n",
       "</table>\n",
       "</div>"
      ],
      "text/plain": [
       "            Attribute1  Attribute2              Attribute3  \\\n",
       "0                <0 DM           6  Critical/other credits   \n",
       "1       0<= ...<200 DM          48          Good repayment   \n",
       "2  No checking account          12  Critical/other credits   \n",
       "3                <0 DM          42          Good repayment   \n",
       "4                <0 DM          24                  Delays   \n",
       "5  No checking account          36          Good repayment   \n",
       "6  No checking account          24          Good repayment   \n",
       "7       0<= ...<200 DM          36          Good repayment   \n",
       "8  No checking account          12          Good repayment   \n",
       "9       0<= ...<200 DM          30  Critical/other credits   \n",
       "\n",
       "            Attribute4  Attribute5    Attribute6  Attribute7  Attribute8  \\\n",
       "0             Radio/TV        1169  Unknown/None   >=7 years           4   \n",
       "1             Radio/TV        5951       <100 DM   1-3 years           2   \n",
       "2            Education        2096       <100 DM   4-6 years           2   \n",
       "3  Furniture/equipment        7882       <100 DM   4-6 years           2   \n",
       "4              New car        4870       <100 DM   1-3 years           3   \n",
       "5            Education        9055  Unknown/None   1-3 years           2   \n",
       "6  Furniture/equipment        2835    500-999 DM   >=7 years           3   \n",
       "7             Used car        6948       <100 DM   1-3 years           2   \n",
       "8             Radio/TV        3059     >=1000 DM   4-6 years           2   \n",
       "9              New car        5234       <100 DM  Unemployed           4   \n",
       "\n",
       "                 Attribute9 Attribute10  Attribute11             Attribute12  \\\n",
       "0              Male: single        None            4             Real estate   \n",
       "1  Female: divorced/married        None            2             Real estate   \n",
       "2              Male: single        None            3             Real estate   \n",
       "3              Male: single   Guarantor            4  Savings/life insurance   \n",
       "4              Male: single        None            4            Unknown/None   \n",
       "5              Male: single        None            4            Unknown/None   \n",
       "6              Male: single        None            4  Savings/life insurance   \n",
       "7              Male: single        None            2      Car/other property   \n",
       "8  Male: divorced/separated        None            4             Real estate   \n",
       "9     Male: married/widowed        None            2      Car/other property   \n",
       "\n",
       "   Attribute13 Attribute14 Attribute15  Attribute16  \\\n",
       "0           67        None         Own            2   \n",
       "1           22        None         Own            1   \n",
       "2           49        None         Own            1   \n",
       "3           45        None    For free            1   \n",
       "4           53        None    For free            2   \n",
       "5           35        None    For free            1   \n",
       "6           53        None         Own            1   \n",
       "7           35        None        Rent            1   \n",
       "8           61        None         Own            1   \n",
       "9           28        None         Own            2   \n",
       "\n",
       "                   Attribute17  Attribute18 Attribute19 Attribute20  \n",
       "0             Skilled employee            1         Yes         Yes  \n",
       "1             Skilled employee            1        None         Yes  \n",
       "2           Unskilled/resident            2        None         Yes  \n",
       "3             Skilled employee            2        None         Yes  \n",
       "4             Skilled employee            2        None         Yes  \n",
       "5           Unskilled/resident            2         Yes         Yes  \n",
       "6             Skilled employee            1        None         Yes  \n",
       "7  Management/highly qualified            1         Yes         Yes  \n",
       "8           Unskilled/resident            1        None         Yes  \n",
       "9  Management/highly qualified            1        None         Yes  "
      ]
     },
     "execution_count": 184,
     "metadata": {},
     "output_type": "execute_result"
    }
   ],
   "source": [
    "X = df_decode(df = X_coded, dict = all_attributes_mapping)\n",
    "X.head(n = 10)"
   ]
  },
  {
   "cell_type": "markdown",
   "metadata": {},
   "source": [
    "The columns will be renamed for clarity:"
   ]
  },
  {
   "cell_type": "code",
   "execution_count": 185,
   "metadata": {},
   "outputs": [
    {
     "data": {
      "text/html": [
       "<div>\n",
       "<style scoped>\n",
       "    .dataframe tbody tr th:only-of-type {\n",
       "        vertical-align: middle;\n",
       "    }\n",
       "\n",
       "    .dataframe tbody tr th {\n",
       "        vertical-align: top;\n",
       "    }\n",
       "\n",
       "    .dataframe thead th {\n",
       "        text-align: right;\n",
       "    }\n",
       "</style>\n",
       "<table border=\"1\" class=\"dataframe\">\n",
       "  <thead>\n",
       "    <tr style=\"text-align: right;\">\n",
       "      <th></th>\n",
       "      <th>CheckingAccountStatus</th>\n",
       "      <th>LoanDurationMonths</th>\n",
       "      <th>CreditHistory</th>\n",
       "      <th>LoanPurpose</th>\n",
       "      <th>CreditAmount</th>\n",
       "      <th>SavingsAccountBonds</th>\n",
       "      <th>EmploymentDuration</th>\n",
       "      <th>InstallmentRate</th>\n",
       "      <th>PersonalStatusSex</th>\n",
       "      <th>OtherDebtorsGuarantors</th>\n",
       "      <th>ResidenceDuration</th>\n",
       "      <th>PropertyOwnership</th>\n",
       "      <th>AgeYears</th>\n",
       "      <th>OtherInstallmentPlans</th>\n",
       "      <th>HousingStatus</th>\n",
       "      <th>ExistingCredits</th>\n",
       "      <th>JobType</th>\n",
       "      <th>Dependents</th>\n",
       "      <th>Telephone</th>\n",
       "      <th>ForeignWorker</th>\n",
       "    </tr>\n",
       "  </thead>\n",
       "  <tbody>\n",
       "    <tr>\n",
       "      <th>0</th>\n",
       "      <td>&lt;0 DM</td>\n",
       "      <td>6</td>\n",
       "      <td>Critical/other credits</td>\n",
       "      <td>Radio/TV</td>\n",
       "      <td>1169</td>\n",
       "      <td>Unknown/None</td>\n",
       "      <td>&gt;=7 years</td>\n",
       "      <td>4</td>\n",
       "      <td>Male: single</td>\n",
       "      <td>None</td>\n",
       "      <td>4</td>\n",
       "      <td>Real estate</td>\n",
       "      <td>67</td>\n",
       "      <td>None</td>\n",
       "      <td>Own</td>\n",
       "      <td>2</td>\n",
       "      <td>Skilled employee</td>\n",
       "      <td>1</td>\n",
       "      <td>Yes</td>\n",
       "      <td>Yes</td>\n",
       "    </tr>\n",
       "    <tr>\n",
       "      <th>1</th>\n",
       "      <td>0&lt;= ...&lt;200 DM</td>\n",
       "      <td>48</td>\n",
       "      <td>Good repayment</td>\n",
       "      <td>Radio/TV</td>\n",
       "      <td>5951</td>\n",
       "      <td>&lt;100 DM</td>\n",
       "      <td>1-3 years</td>\n",
       "      <td>2</td>\n",
       "      <td>Female: divorced/married</td>\n",
       "      <td>None</td>\n",
       "      <td>2</td>\n",
       "      <td>Real estate</td>\n",
       "      <td>22</td>\n",
       "      <td>None</td>\n",
       "      <td>Own</td>\n",
       "      <td>1</td>\n",
       "      <td>Skilled employee</td>\n",
       "      <td>1</td>\n",
       "      <td>None</td>\n",
       "      <td>Yes</td>\n",
       "    </tr>\n",
       "    <tr>\n",
       "      <th>2</th>\n",
       "      <td>No checking account</td>\n",
       "      <td>12</td>\n",
       "      <td>Critical/other credits</td>\n",
       "      <td>Education</td>\n",
       "      <td>2096</td>\n",
       "      <td>&lt;100 DM</td>\n",
       "      <td>4-6 years</td>\n",
       "      <td>2</td>\n",
       "      <td>Male: single</td>\n",
       "      <td>None</td>\n",
       "      <td>3</td>\n",
       "      <td>Real estate</td>\n",
       "      <td>49</td>\n",
       "      <td>None</td>\n",
       "      <td>Own</td>\n",
       "      <td>1</td>\n",
       "      <td>Unskilled/resident</td>\n",
       "      <td>2</td>\n",
       "      <td>None</td>\n",
       "      <td>Yes</td>\n",
       "    </tr>\n",
       "    <tr>\n",
       "      <th>3</th>\n",
       "      <td>&lt;0 DM</td>\n",
       "      <td>42</td>\n",
       "      <td>Good repayment</td>\n",
       "      <td>Furniture/equipment</td>\n",
       "      <td>7882</td>\n",
       "      <td>&lt;100 DM</td>\n",
       "      <td>4-6 years</td>\n",
       "      <td>2</td>\n",
       "      <td>Male: single</td>\n",
       "      <td>Guarantor</td>\n",
       "      <td>4</td>\n",
       "      <td>Savings/life insurance</td>\n",
       "      <td>45</td>\n",
       "      <td>None</td>\n",
       "      <td>For free</td>\n",
       "      <td>1</td>\n",
       "      <td>Skilled employee</td>\n",
       "      <td>2</td>\n",
       "      <td>None</td>\n",
       "      <td>Yes</td>\n",
       "    </tr>\n",
       "    <tr>\n",
       "      <th>4</th>\n",
       "      <td>&lt;0 DM</td>\n",
       "      <td>24</td>\n",
       "      <td>Delays</td>\n",
       "      <td>New car</td>\n",
       "      <td>4870</td>\n",
       "      <td>&lt;100 DM</td>\n",
       "      <td>1-3 years</td>\n",
       "      <td>3</td>\n",
       "      <td>Male: single</td>\n",
       "      <td>None</td>\n",
       "      <td>4</td>\n",
       "      <td>Unknown/None</td>\n",
       "      <td>53</td>\n",
       "      <td>None</td>\n",
       "      <td>For free</td>\n",
       "      <td>2</td>\n",
       "      <td>Skilled employee</td>\n",
       "      <td>2</td>\n",
       "      <td>None</td>\n",
       "      <td>Yes</td>\n",
       "    </tr>\n",
       "  </tbody>\n",
       "</table>\n",
       "</div>"
      ],
      "text/plain": [
       "  CheckingAccountStatus  LoanDurationMonths           CreditHistory  \\\n",
       "0                 <0 DM                   6  Critical/other credits   \n",
       "1        0<= ...<200 DM                  48          Good repayment   \n",
       "2   No checking account                  12  Critical/other credits   \n",
       "3                 <0 DM                  42          Good repayment   \n",
       "4                 <0 DM                  24                  Delays   \n",
       "\n",
       "           LoanPurpose  CreditAmount SavingsAccountBonds EmploymentDuration  \\\n",
       "0             Radio/TV          1169        Unknown/None          >=7 years   \n",
       "1             Radio/TV          5951             <100 DM          1-3 years   \n",
       "2            Education          2096             <100 DM          4-6 years   \n",
       "3  Furniture/equipment          7882             <100 DM          4-6 years   \n",
       "4              New car          4870             <100 DM          1-3 years   \n",
       "\n",
       "   InstallmentRate         PersonalStatusSex OtherDebtorsGuarantors  \\\n",
       "0                4              Male: single                   None   \n",
       "1                2  Female: divorced/married                   None   \n",
       "2                2              Male: single                   None   \n",
       "3                2              Male: single              Guarantor   \n",
       "4                3              Male: single                   None   \n",
       "\n",
       "   ResidenceDuration       PropertyOwnership  AgeYears OtherInstallmentPlans  \\\n",
       "0                  4             Real estate        67                  None   \n",
       "1                  2             Real estate        22                  None   \n",
       "2                  3             Real estate        49                  None   \n",
       "3                  4  Savings/life insurance        45                  None   \n",
       "4                  4            Unknown/None        53                  None   \n",
       "\n",
       "  HousingStatus  ExistingCredits             JobType  Dependents Telephone  \\\n",
       "0           Own                2    Skilled employee           1       Yes   \n",
       "1           Own                1    Skilled employee           1      None   \n",
       "2           Own                1  Unskilled/resident           2      None   \n",
       "3      For free                1    Skilled employee           2      None   \n",
       "4      For free                2    Skilled employee           2      None   \n",
       "\n",
       "  ForeignWorker  \n",
       "0           Yes  \n",
       "1           Yes  \n",
       "2           Yes  \n",
       "3           Yes  \n",
       "4           Yes  "
      ]
     },
     "execution_count": 185,
     "metadata": {},
     "output_type": "execute_result"
    }
   ],
   "source": [
    "attribute_names = [\n",
    "    \"CheckingAccountStatus\",  # Status of existing checking account\n",
    "    \"LoanDurationMonths\",     # Duration of the loan in months\n",
    "    \"CreditHistory\",          # Credit history\n",
    "    \"LoanPurpose\",            # Purpose of the loan\n",
    "    \"CreditAmount\",           # Credit amount\n",
    "    \"SavingsAccountBonds\",    # Savings account or bonds\n",
    "    \"EmploymentDuration\",     # Present employment duration\n",
    "    \"InstallmentRate\",        # Installment rate (% of disposable income)\n",
    "    \"PersonalStatusSex\",      # Personal status and sex\n",
    "    \"OtherDebtorsGuarantors\", # Other debtors or guarantors\n",
    "    \"ResidenceDuration\",      # Present residence duration\n",
    "    \"PropertyOwnership\",      # Property ownership\n",
    "    \"AgeYears\",               # Age in years\n",
    "    \"OtherInstallmentPlans\",  # Other installment plans\n",
    "    \"HousingStatus\",          # Housing\n",
    "    \"ExistingCredits\",        # Number of existing credits at this bank\n",
    "    \"JobType\",                # Job type\n",
    "    \"Dependents\",             # Number of dependents\n",
    "    \"Telephone\",              # Telephone availability\n",
    "    \"ForeignWorker\"           # Foreign worker status\n",
    "]\n",
    "X.columns = attribute_names\n",
    "X.head()"
   ]
  },
  {
   "cell_type": "code",
   "execution_count": 186,
   "metadata": {},
   "outputs": [
    {
     "data": {
      "text/plain": [
       "np.int64(0)"
      ]
     },
     "execution_count": 186,
     "metadata": {},
     "output_type": "execute_result"
    }
   ],
   "source": [
    "X.duplicated().sum() # No duplicate rows"
   ]
  },
  {
   "cell_type": "code",
   "execution_count": 187,
   "metadata": {},
   "outputs": [
    {
     "name": "stdout",
     "output_type": "stream",
     "text": [
      "<class 'pandas.core.frame.DataFrame'>\n",
      "RangeIndex: 1000 entries, 0 to 999\n",
      "Data columns (total 20 columns):\n",
      " #   Column                  Non-Null Count  Dtype \n",
      "---  ------                  --------------  ----- \n",
      " 0   CheckingAccountStatus   1000 non-null   object\n",
      " 1   LoanDurationMonths      1000 non-null   int64 \n",
      " 2   CreditHistory           1000 non-null   object\n",
      " 3   LoanPurpose             1000 non-null   object\n",
      " 4   CreditAmount            1000 non-null   int64 \n",
      " 5   SavingsAccountBonds     1000 non-null   object\n",
      " 6   EmploymentDuration      1000 non-null   object\n",
      " 7   InstallmentRate         1000 non-null   int64 \n",
      " 8   PersonalStatusSex       1000 non-null   object\n",
      " 9   OtherDebtorsGuarantors  1000 non-null   object\n",
      " 10  ResidenceDuration       1000 non-null   int64 \n",
      " 11  PropertyOwnership       1000 non-null   object\n",
      " 12  AgeYears                1000 non-null   int64 \n",
      " 13  OtherInstallmentPlans   1000 non-null   object\n",
      " 14  HousingStatus           1000 non-null   object\n",
      " 15  ExistingCredits         1000 non-null   int64 \n",
      " 16  JobType                 1000 non-null   object\n",
      " 17  Dependents              1000 non-null   int64 \n",
      " 18  Telephone               1000 non-null   object\n",
      " 19  ForeignWorker           1000 non-null   object\n",
      "dtypes: int64(7), object(13)\n",
      "memory usage: 156.4+ KB\n"
     ]
    }
   ],
   "source": [
    "X.info()"
   ]
  },
  {
   "cell_type": "markdown",
   "metadata": {},
   "source": [
    "No missing values in the table and all Dtype are correct for all of the columns."
   ]
  },
  {
   "cell_type": "markdown",
   "metadata": {},
   "source": [
    "---"
   ]
  },
  {
   "cell_type": "markdown",
   "metadata": {},
   "source": [
    "### 4.2. Exploratory Data Analysis (EDA)"
   ]
  },
  {
   "cell_type": "markdown",
   "metadata": {},
   "source": [
    "### 4.2.1. Overview of the Dataset"
   ]
  },
  {
   "cell_type": "markdown",
   "metadata": {},
   "source": [
    "Numerical summary of the features for the dataset:"
   ]
  },
  {
   "cell_type": "code",
   "execution_count": 188,
   "metadata": {},
   "outputs": [
    {
     "data": {
      "text/html": [
       "<div>\n",
       "<style scoped>\n",
       "    .dataframe tbody tr th:only-of-type {\n",
       "        vertical-align: middle;\n",
       "    }\n",
       "\n",
       "    .dataframe tbody tr th {\n",
       "        vertical-align: top;\n",
       "    }\n",
       "\n",
       "    .dataframe thead th {\n",
       "        text-align: right;\n",
       "    }\n",
       "</style>\n",
       "<table border=\"1\" class=\"dataframe\">\n",
       "  <thead>\n",
       "    <tr style=\"text-align: right;\">\n",
       "      <th></th>\n",
       "      <th>LoanDurationMonths</th>\n",
       "      <th>CreditAmount</th>\n",
       "      <th>InstallmentRate</th>\n",
       "      <th>ResidenceDuration</th>\n",
       "      <th>AgeYears</th>\n",
       "      <th>ExistingCredits</th>\n",
       "      <th>Dependents</th>\n",
       "    </tr>\n",
       "  </thead>\n",
       "  <tbody>\n",
       "    <tr>\n",
       "      <th>count</th>\n",
       "      <td>1000.000000</td>\n",
       "      <td>1000.000000</td>\n",
       "      <td>1000.000000</td>\n",
       "      <td>1000.000000</td>\n",
       "      <td>1000.000000</td>\n",
       "      <td>1000.000000</td>\n",
       "      <td>1000.000000</td>\n",
       "    </tr>\n",
       "    <tr>\n",
       "      <th>mean</th>\n",
       "      <td>20.903000</td>\n",
       "      <td>3271.258000</td>\n",
       "      <td>2.973000</td>\n",
       "      <td>2.845000</td>\n",
       "      <td>35.546000</td>\n",
       "      <td>1.407000</td>\n",
       "      <td>1.155000</td>\n",
       "    </tr>\n",
       "    <tr>\n",
       "      <th>std</th>\n",
       "      <td>12.058814</td>\n",
       "      <td>2822.736876</td>\n",
       "      <td>1.118715</td>\n",
       "      <td>1.103718</td>\n",
       "      <td>11.375469</td>\n",
       "      <td>0.577654</td>\n",
       "      <td>0.362086</td>\n",
       "    </tr>\n",
       "    <tr>\n",
       "      <th>min</th>\n",
       "      <td>4.000000</td>\n",
       "      <td>250.000000</td>\n",
       "      <td>1.000000</td>\n",
       "      <td>1.000000</td>\n",
       "      <td>19.000000</td>\n",
       "      <td>1.000000</td>\n",
       "      <td>1.000000</td>\n",
       "    </tr>\n",
       "    <tr>\n",
       "      <th>25%</th>\n",
       "      <td>12.000000</td>\n",
       "      <td>1365.500000</td>\n",
       "      <td>2.000000</td>\n",
       "      <td>2.000000</td>\n",
       "      <td>27.000000</td>\n",
       "      <td>1.000000</td>\n",
       "      <td>1.000000</td>\n",
       "    </tr>\n",
       "    <tr>\n",
       "      <th>50%</th>\n",
       "      <td>18.000000</td>\n",
       "      <td>2319.500000</td>\n",
       "      <td>3.000000</td>\n",
       "      <td>3.000000</td>\n",
       "      <td>33.000000</td>\n",
       "      <td>1.000000</td>\n",
       "      <td>1.000000</td>\n",
       "    </tr>\n",
       "    <tr>\n",
       "      <th>75%</th>\n",
       "      <td>24.000000</td>\n",
       "      <td>3972.250000</td>\n",
       "      <td>4.000000</td>\n",
       "      <td>4.000000</td>\n",
       "      <td>42.000000</td>\n",
       "      <td>2.000000</td>\n",
       "      <td>1.000000</td>\n",
       "    </tr>\n",
       "    <tr>\n",
       "      <th>max</th>\n",
       "      <td>72.000000</td>\n",
       "      <td>18424.000000</td>\n",
       "      <td>4.000000</td>\n",
       "      <td>4.000000</td>\n",
       "      <td>75.000000</td>\n",
       "      <td>4.000000</td>\n",
       "      <td>2.000000</td>\n",
       "    </tr>\n",
       "  </tbody>\n",
       "</table>\n",
       "</div>"
      ],
      "text/plain": [
       "       LoanDurationMonths  CreditAmount  InstallmentRate  ResidenceDuration  \\\n",
       "count         1000.000000   1000.000000      1000.000000        1000.000000   \n",
       "mean            20.903000   3271.258000         2.973000           2.845000   \n",
       "std             12.058814   2822.736876         1.118715           1.103718   \n",
       "min              4.000000    250.000000         1.000000           1.000000   \n",
       "25%             12.000000   1365.500000         2.000000           2.000000   \n",
       "50%             18.000000   2319.500000         3.000000           3.000000   \n",
       "75%             24.000000   3972.250000         4.000000           4.000000   \n",
       "max             72.000000  18424.000000         4.000000           4.000000   \n",
       "\n",
       "          AgeYears  ExistingCredits   Dependents  \n",
       "count  1000.000000      1000.000000  1000.000000  \n",
       "mean     35.546000         1.407000     1.155000  \n",
       "std      11.375469         0.577654     0.362086  \n",
       "min      19.000000         1.000000     1.000000  \n",
       "25%      27.000000         1.000000     1.000000  \n",
       "50%      33.000000         1.000000     1.000000  \n",
       "75%      42.000000         2.000000     1.000000  \n",
       "max      75.000000         4.000000     2.000000  "
      ]
     },
     "execution_count": 188,
     "metadata": {},
     "output_type": "execute_result"
    }
   ],
   "source": [
    "X.describe()"
   ]
  },
  {
   "cell_type": "markdown",
   "metadata": {},
   "source": [
    "Categorical summary of the features:"
   ]
  },
  {
   "cell_type": "code",
   "execution_count": 189,
   "metadata": {},
   "outputs": [
    {
     "data": {
      "text/html": [
       "<div>\n",
       "<style scoped>\n",
       "    .dataframe tbody tr th:only-of-type {\n",
       "        vertical-align: middle;\n",
       "    }\n",
       "\n",
       "    .dataframe tbody tr th {\n",
       "        vertical-align: top;\n",
       "    }\n",
       "\n",
       "    .dataframe thead th {\n",
       "        text-align: right;\n",
       "    }\n",
       "</style>\n",
       "<table border=\"1\" class=\"dataframe\">\n",
       "  <thead>\n",
       "    <tr style=\"text-align: right;\">\n",
       "      <th></th>\n",
       "      <th>CheckingAccountStatus</th>\n",
       "      <th>CreditHistory</th>\n",
       "      <th>LoanPurpose</th>\n",
       "      <th>SavingsAccountBonds</th>\n",
       "      <th>EmploymentDuration</th>\n",
       "      <th>PersonalStatusSex</th>\n",
       "      <th>OtherDebtorsGuarantors</th>\n",
       "      <th>PropertyOwnership</th>\n",
       "      <th>OtherInstallmentPlans</th>\n",
       "      <th>HousingStatus</th>\n",
       "      <th>JobType</th>\n",
       "      <th>Telephone</th>\n",
       "      <th>ForeignWorker</th>\n",
       "    </tr>\n",
       "  </thead>\n",
       "  <tbody>\n",
       "    <tr>\n",
       "      <th>count</th>\n",
       "      <td>1000</td>\n",
       "      <td>1000</td>\n",
       "      <td>1000</td>\n",
       "      <td>1000</td>\n",
       "      <td>1000</td>\n",
       "      <td>1000</td>\n",
       "      <td>1000</td>\n",
       "      <td>1000</td>\n",
       "      <td>1000</td>\n",
       "      <td>1000</td>\n",
       "      <td>1000</td>\n",
       "      <td>1000</td>\n",
       "      <td>1000</td>\n",
       "    </tr>\n",
       "    <tr>\n",
       "      <th>unique</th>\n",
       "      <td>4</td>\n",
       "      <td>5</td>\n",
       "      <td>10</td>\n",
       "      <td>5</td>\n",
       "      <td>5</td>\n",
       "      <td>4</td>\n",
       "      <td>3</td>\n",
       "      <td>4</td>\n",
       "      <td>3</td>\n",
       "      <td>3</td>\n",
       "      <td>4</td>\n",
       "      <td>2</td>\n",
       "      <td>2</td>\n",
       "    </tr>\n",
       "    <tr>\n",
       "      <th>top</th>\n",
       "      <td>No checking account</td>\n",
       "      <td>Good repayment</td>\n",
       "      <td>Radio/TV</td>\n",
       "      <td>&lt;100 DM</td>\n",
       "      <td>1-3 years</td>\n",
       "      <td>Male: single</td>\n",
       "      <td>None</td>\n",
       "      <td>Car/other property</td>\n",
       "      <td>None</td>\n",
       "      <td>Own</td>\n",
       "      <td>Skilled employee</td>\n",
       "      <td>None</td>\n",
       "      <td>Yes</td>\n",
       "    </tr>\n",
       "    <tr>\n",
       "      <th>freq</th>\n",
       "      <td>394</td>\n",
       "      <td>530</td>\n",
       "      <td>280</td>\n",
       "      <td>603</td>\n",
       "      <td>339</td>\n",
       "      <td>548</td>\n",
       "      <td>907</td>\n",
       "      <td>332</td>\n",
       "      <td>814</td>\n",
       "      <td>713</td>\n",
       "      <td>630</td>\n",
       "      <td>596</td>\n",
       "      <td>963</td>\n",
       "    </tr>\n",
       "  </tbody>\n",
       "</table>\n",
       "</div>"
      ],
      "text/plain": [
       "       CheckingAccountStatus   CreditHistory LoanPurpose SavingsAccountBonds  \\\n",
       "count                   1000            1000        1000                1000   \n",
       "unique                     4               5          10                   5   \n",
       "top      No checking account  Good repayment    Radio/TV             <100 DM   \n",
       "freq                     394             530         280                 603   \n",
       "\n",
       "       EmploymentDuration PersonalStatusSex OtherDebtorsGuarantors  \\\n",
       "count                1000              1000                   1000   \n",
       "unique                  5                 4                      3   \n",
       "top             1-3 years      Male: single                   None   \n",
       "freq                  339               548                    907   \n",
       "\n",
       "         PropertyOwnership OtherInstallmentPlans HousingStatus  \\\n",
       "count                 1000                  1000          1000   \n",
       "unique                   4                     3             3   \n",
       "top     Car/other property                  None           Own   \n",
       "freq                   332                   814           713   \n",
       "\n",
       "                 JobType Telephone ForeignWorker  \n",
       "count               1000      1000          1000  \n",
       "unique                 4         2             2  \n",
       "top     Skilled employee      None           Yes  \n",
       "freq                 630       596           963  "
      ]
     },
     "execution_count": 189,
     "metadata": {},
     "output_type": "execute_result"
    }
   ],
   "source": [
    "X.describe(include = np.object_)"
   ]
  },
  {
   "cell_type": "code",
   "execution_count": 191,
   "metadata": {},
   "outputs": [
    {
     "data": {
      "text/html": [
       "<div>\n",
       "<style scoped>\n",
       "    .dataframe tbody tr th:only-of-type {\n",
       "        vertical-align: middle;\n",
       "    }\n",
       "\n",
       "    .dataframe tbody tr th {\n",
       "        vertical-align: top;\n",
       "    }\n",
       "\n",
       "    .dataframe thead th {\n",
       "        text-align: right;\n",
       "    }\n",
       "</style>\n",
       "<table border=\"1\" class=\"dataframe\">\n",
       "  <thead>\n",
       "    <tr style=\"text-align: right;\">\n",
       "      <th></th>\n",
       "      <th>CheckingAccountStatus</th>\n",
       "      <th>CreditHistory</th>\n",
       "      <th>LoanPurpose</th>\n",
       "      <th>SavingsAccountBonds</th>\n",
       "      <th>EmploymentDuration</th>\n",
       "      <th>PersonalStatusSex</th>\n",
       "      <th>OtherDebtorsGuarantors</th>\n",
       "      <th>PropertyOwnership</th>\n",
       "      <th>OtherInstallmentPlans</th>\n",
       "      <th>HousingStatus</th>\n",
       "      <th>JobType</th>\n",
       "      <th>Telephone</th>\n",
       "      <th>ForeignWorker</th>\n",
       "    </tr>\n",
       "  </thead>\n",
       "  <tbody>\n",
       "    <tr>\n",
       "      <th>count</th>\n",
       "      <td>1000</td>\n",
       "      <td>1000</td>\n",
       "      <td>1000</td>\n",
       "      <td>1000</td>\n",
       "      <td>1000</td>\n",
       "      <td>1000</td>\n",
       "      <td>1000</td>\n",
       "      <td>1000</td>\n",
       "      <td>1000</td>\n",
       "      <td>1000</td>\n",
       "      <td>1000</td>\n",
       "      <td>1000</td>\n",
       "      <td>1000</td>\n",
       "    </tr>\n",
       "    <tr>\n",
       "      <th>unique</th>\n",
       "      <td>4</td>\n",
       "      <td>5</td>\n",
       "      <td>10</td>\n",
       "      <td>5</td>\n",
       "      <td>5</td>\n",
       "      <td>4</td>\n",
       "      <td>3</td>\n",
       "      <td>4</td>\n",
       "      <td>3</td>\n",
       "      <td>3</td>\n",
       "      <td>4</td>\n",
       "      <td>2</td>\n",
       "      <td>2</td>\n",
       "    </tr>\n",
       "    <tr>\n",
       "      <th>top</th>\n",
       "      <td>No checking account</td>\n",
       "      <td>Good repayment</td>\n",
       "      <td>Radio/TV</td>\n",
       "      <td>&lt;100 DM</td>\n",
       "      <td>1-3 years</td>\n",
       "      <td>Male: single</td>\n",
       "      <td>None</td>\n",
       "      <td>Car/other property</td>\n",
       "      <td>None</td>\n",
       "      <td>Own</td>\n",
       "      <td>Skilled employee</td>\n",
       "      <td>None</td>\n",
       "      <td>Yes</td>\n",
       "    </tr>\n",
       "    <tr>\n",
       "      <th>freq</th>\n",
       "      <td>394</td>\n",
       "      <td>530</td>\n",
       "      <td>280</td>\n",
       "      <td>603</td>\n",
       "      <td>339</td>\n",
       "      <td>548</td>\n",
       "      <td>907</td>\n",
       "      <td>332</td>\n",
       "      <td>814</td>\n",
       "      <td>713</td>\n",
       "      <td>630</td>\n",
       "      <td>596</td>\n",
       "      <td>963</td>\n",
       "    </tr>\n",
       "    <tr>\n",
       "      <th>Ratio_of_tio</th>\n",
       "      <td>0.394</td>\n",
       "      <td>0.53</td>\n",
       "      <td>0.28</td>\n",
       "      <td>0.603</td>\n",
       "      <td>0.339</td>\n",
       "      <td>0.548</td>\n",
       "      <td>0.907</td>\n",
       "      <td>0.332</td>\n",
       "      <td>0.814</td>\n",
       "      <td>0.713</td>\n",
       "      <td>0.63</td>\n",
       "      <td>0.596</td>\n",
       "      <td>0.963</td>\n",
       "    </tr>\n",
       "  </tbody>\n",
       "</table>\n",
       "</div>"
      ],
      "text/plain": [
       "             CheckingAccountStatus   CreditHistory LoanPurpose  \\\n",
       "count                         1000            1000        1000   \n",
       "unique                           4               5          10   \n",
       "top            No checking account  Good repayment    Radio/TV   \n",
       "freq                           394             530         280   \n",
       "Ratio_of_tio                 0.394            0.53        0.28   \n",
       "\n",
       "             SavingsAccountBonds EmploymentDuration PersonalStatusSex  \\\n",
       "count                       1000               1000              1000   \n",
       "unique                         5                  5                 4   \n",
       "top                      <100 DM          1-3 years      Male: single   \n",
       "freq                         603                339               548   \n",
       "Ratio_of_tio               0.603              0.339             0.548   \n",
       "\n",
       "             OtherDebtorsGuarantors   PropertyOwnership OtherInstallmentPlans  \\\n",
       "count                          1000                1000                  1000   \n",
       "unique                            3                   4                     3   \n",
       "top                            None  Car/other property                  None   \n",
       "freq                            907                 332                   814   \n",
       "Ratio_of_tio                  0.907               0.332                 0.814   \n",
       "\n",
       "             HousingStatus           JobType Telephone ForeignWorker  \n",
       "count                 1000              1000      1000          1000  \n",
       "unique                   3                 4         2             2  \n",
       "top                    Own  Skilled employee      None           Yes  \n",
       "freq                   713               630       596           963  \n",
       "Ratio_of_tio         0.713              0.63     0.596         0.963  "
      ]
     },
     "execution_count": 191,
     "metadata": {},
     "output_type": "execute_result"
    }
   ],
   "source": [
    "t1 = X.describe(include = np.object_)\n",
    "t1.loc['Ratio_of_tio'] = t1.iloc[3, :] / t1.iloc[0, :]\n",
    "t1"
   ]
  },
  {
   "cell_type": "markdown",
   "metadata": {},
   "source": [
    "There appear to be several categorial class  that dominate for some of the different features within the dataset."
   ]
  },
  {
   "cell_type": "markdown",
   "metadata": {},
   "source": [
    "### 4.2.2 Target Variable Analysis"
   ]
  },
  {
   "cell_type": "markdown",
   "metadata": {},
   "source": [
    "The target variable will be analyzed to determine its distribution."
   ]
  },
  {
   "cell_type": "code",
   "execution_count": 216,
   "metadata": {},
   "outputs": [],
   "source": [
    "figures_folder = os.path.join(os.getcwd(), r'outputs/visuals/') # Assumes cwd directory is the top directory of the project"
   ]
  },
  {
   "cell_type": "code",
   "execution_count": 218,
   "metadata": {},
   "outputs": [
    {
     "data": {
      "image/png": "[encoded data removed]",
      "text/plain": [
       "<Figure size 640x480 with 1 Axes>"
      ]
     },
     "metadata": {},
     "output_type": "display_data"
    }
   ],
   "source": [
    "plt.bar(x = y.value_counts().index , height = y.value_counts().values, \n",
    "        width = 0.6, \n",
    "        color = '#087E8B',\n",
    "        edgecolor = 'black')\n",
    "plt.xlabel(xlabel = 'Credit Risk')\n",
    "plt.ylabel(ylabel = 'Count')\n",
    "plt.title(label = 'Distribution of Credit Risk')\n",
    "\n",
    "file_path = os.path.join(figures_folder, 'Target_variable_distribution.png')\n",
    "plt.savefig(file_path)\n",
    "\n",
    "plt.show();"
   ]
  },
  {
   "cell_type": "markdown",
   "metadata": {},
   "source": [
    "There is a 70/30 split between low-risk and high-risk individuals, indicating an unbalanced dataset. According to the data documentation, misclassifying high-risk individuals as low-risk should incur a higher penalty compared to misclassifying low-risk individuals as high-risk. This imbalance will be addressed when developing the models."
   ]
  },
  {
   "cell_type": "markdown",
   "metadata": {},
   "source": [
    "### 4.2.3 Univariate Analysis"
   ]
  },
  {
   "cell_type": "code",
   "execution_count": 219,
   "metadata": {},
   "outputs": [
    {
     "name": "stdout",
     "output_type": "stream",
     "text": [
      "<class 'pandas.core.frame.DataFrame'>\n",
      "RangeIndex: 1000 entries, 0 to 999\n",
      "Data columns (total 20 columns):\n",
      " #   Column                  Non-Null Count  Dtype \n",
      "---  ------                  --------------  ----- \n",
      " 0   CheckingAccountStatus   1000 non-null   object\n",
      " 1   LoanDurationMonths      1000 non-null   int64 \n",
      " 2   CreditHistory           1000 non-null   object\n",
      " 3   LoanPurpose             1000 non-null   object\n",
      " 4   CreditAmount            1000 non-null   int64 \n",
      " 5   SavingsAccountBonds     1000 non-null   object\n",
      " 6   EmploymentDuration      1000 non-null   object\n",
      " 7   InstallmentRate         1000 non-null   int64 \n",
      " 8   PersonalStatusSex       1000 non-null   object\n",
      " 9   OtherDebtorsGuarantors  1000 non-null   object\n",
      " 10  ResidenceDuration       1000 non-null   int64 \n",
      " 11  PropertyOwnership       1000 non-null   object\n",
      " 12  AgeYears                1000 non-null   int64 \n",
      " 13  OtherInstallmentPlans   1000 non-null   object\n",
      " 14  HousingStatus           1000 non-null   object\n",
      " 15  ExistingCredits         1000 non-null   int64 \n",
      " 16  JobType                 1000 non-null   object\n",
      " 17  Dependents              1000 non-null   int64 \n",
      " 18  Telephone               1000 non-null   object\n",
      " 19  ForeignWorker           1000 non-null   object\n",
      "dtypes: int64(7), object(13)\n",
      "memory usage: 156.4+ KB\n"
     ]
    }
   ],
   "source": [
    "X.info()"
   ]
  },
  {
   "cell_type": "markdown",
   "metadata": {},
   "source": [
    "#### 4.2.3.1 Numerical Variables"
   ]
  },
  {
   "cell_type": "markdown",
   "metadata": {},
   "source": [
    "The following will be an assessment of the numerical features of the dataset, with the purpose of identifying skewness, outliers, or unusual distributions"
   ]
  },
  {
   "cell_type": "markdown",
   "metadata": {},
   "source": [
    "##### 4.2.3.1.1. LoanDurationMonths"
   ]
  },
  {
   "cell_type": "code",
   "execution_count": 221,
   "metadata": {},
   "outputs": [
    {
     "data": {
      "text/plain": [
       "count    1000.000000\n",
       "mean       20.903000\n",
       "std        12.058814\n",
       "min         4.000000\n",
       "25%        12.000000\n",
       "50%        18.000000\n",
       "75%        24.000000\n",
       "max        72.000000\n",
       "Name: LoanDurationMonths, dtype: float64"
      ]
     },
     "execution_count": 221,
     "metadata": {},
     "output_type": "execute_result"
    }
   ],
   "source": [
    "X['LoanDurationMonths'].describe()"
   ]
  },
  {
   "cell_type": "code",
   "execution_count": 278,
   "metadata": {},
   "outputs": [
    {
     "data": {
      "image/png": "[encoded data removed]",
      "text/plain": [
       "<Figure size 640x480 with 1 Axes>"
      ]
     },
     "metadata": {},
     "output_type": "display_data"
    }
   ],
   "source": [
    "plt.hist(x = X['LoanDurationMonths'], bins = 20, color = '#087E8B', edgecolor = 'black', density = True)\n",
    "\n",
    "mu, std = norm.fit(X['LoanDurationMonths']) # Calculating mean and standard deviation\n",
    "xmin, xmax = plt.xlim()\n",
    "x = np.linspace(start = xmin, stop = xmax, num = 100)\n",
    "p = norm.pdf(x, mu, std) # PDF for normal distribution\n",
    "plt.plot(x, p, 'k', linewidth = 2)\n",
    "\n",
    "plt.xlabel(xlabel = 'Loan Duration (Months)')\n",
    "plt.ylabel(ylabel = 'Density')\n",
    "plt.title(label = 'LoanDurationMonths Density Distribution')\n",
    "plt.figtext(x = 0.75, \n",
    "            y = 0.815, \n",
    "            s = f'Mean: {mu:.2f} \\nSD: {std:.2f}', \n",
    "            fontsize=10, \n",
    "            bbox = dict(boxstyle='square', facecolor='lightblue', edgecolor='black', alpha=1))\n",
    "\n",
    "plt.show();\n"
   ]
  },
  {
   "cell_type": "code",
   "execution_count": 254,
   "metadata": {},
   "outputs": [
    {
     "name": "stdout",
     "output_type": "stream",
     "text": [
      "3.9.2\n"
     ]
    }
   ],
   "source": [
    "import matplotlib\n",
    "print(matplotlib.__version__)"
   ]
  },
  {
   "cell_type": "markdown",
   "metadata": {},
   "source": [
    "##### 4.2.3.1.2. CreditAmount"
   ]
  },
  {
   "cell_type": "markdown",
   "metadata": {},
   "source": [
    "##### 4.2.3.1.3. InstallmentRate"
   ]
  },
  {
   "cell_type": "markdown",
   "metadata": {},
   "source": [
    "##### 4.2.3.1.4. ResidenceDuration "
   ]
  },
  {
   "cell_type": "markdown",
   "metadata": {},
   "source": [
    "##### 4.2.3.1.5. AgeYears"
   ]
  },
  {
   "cell_type": "markdown",
   "metadata": {},
   "source": [
    "##### 4.2.3.1.6. ExistingCredits"
   ]
  },
  {
   "cell_type": "markdown",
   "metadata": {},
   "source": [
    "##### 4.2.3.1.7. Dependents"
   ]
  },
  {
   "cell_type": "markdown",
   "metadata": {},
   "source": [
    "#### 4.2.3.2. Categorical Features"
   ]
  },
  {
   "cell_type": "markdown",
   "metadata": {},
   "source": [
    "##### 4.2.3.2.1. CheckingAccountStatus"
   ]
  },
  {
   "cell_type": "markdown",
   "metadata": {},
   "source": [
    "##### 4.2.3.2.2. CreditHistory"
   ]
  },
  {
   "cell_type": "markdown",
   "metadata": {},
   "source": [
    "##### 4.2.3.2.3. LoanPurpose"
   ]
  },
  {
   "cell_type": "markdown",
   "metadata": {},
   "source": [
    "##### 4.2.3.2.4. SavingsAccountBonds"
   ]
  },
  {
   "cell_type": "markdown",
   "metadata": {},
   "source": [
    "##### 4.2.3.2.5. EmploymentDuration "
   ]
  },
  {
   "cell_type": "markdown",
   "metadata": {},
   "source": [
    "##### 4.2.3.2.6. PersonalStatusSex"
   ]
  },
  {
   "cell_type": "markdown",
   "metadata": {},
   "source": [
    "##### 4.2.3.2.7. OtherDebtorsGuarantors "
   ]
  },
  {
   "cell_type": "markdown",
   "metadata": {},
   "source": [
    "##### 4.2.3.2.8. PropertyOwnership  "
   ]
  },
  {
   "cell_type": "markdown",
   "metadata": {},
   "source": [
    "##### 4.2.3.2.8. OtherInstallmentPlans"
   ]
  },
  {
   "cell_type": "markdown",
   "metadata": {},
   "source": [
    "##### 4.2.3.2.9. HousingStatus "
   ]
  },
  {
   "cell_type": "markdown",
   "metadata": {},
   "source": [
    "##### 4.2.3.2.10. JobType"
   ]
  },
  {
   "cell_type": "markdown",
   "metadata": {},
   "source": [
    "##### 4.2.3.2.11. Telephone"
   ]
  },
  {
   "cell_type": "markdown",
   "metadata": {},
   "source": [
    "##### 4.2.3.2.12. ForeignWorker"
   ]
  },
  {
   "cell_type": "markdown",
   "metadata": {},
   "source": [
    "### 4.2.4. Bivariate Analysis"
   ]
  },
  {
   "cell_type": "markdown",
   "metadata": {},
   "source": [
    "---"
   ]
  },
  {
   "cell_type": "markdown",
   "metadata": {},
   "source": [
    "### Data Preprocessing"
   ]
  },
  {
   "cell_type": "markdown",
   "metadata": {},
   "source": [
    "---"
   ]
  },
  {
   "cell_type": "markdown",
   "metadata": {},
   "source": [
    "### Model Development"
   ]
  },
  {
   "cell_type": "markdown",
   "metadata": {},
   "source": [
    "---"
   ]
  },
  {
   "cell_type": "markdown",
   "metadata": {},
   "source": [
    "### Model Evaluation"
   ]
  },
  {
   "cell_type": "markdown",
   "metadata": {},
   "source": [
    "---"
   ]
  },
  {
   "cell_type": "markdown",
   "metadata": {},
   "source": [
    "## Results"
   ]
  },
  {
   "cell_type": "markdown",
   "metadata": {},
   "source": [
    "---"
   ]
  },
  {
   "cell_type": "markdown",
   "metadata": {},
   "source": [
    "## Conclusions"
   ]
  },
  {
   "cell_type": "markdown",
   "metadata": {},
   "source": [
    "---"
   ]
  }
 ],
 "metadata": {
  "kernelspec": {
   "display_name": "myenv",
   "language": "python",
   "name": "python3"
  },
  "language_info": {
   "codemirror_mode": {
    "name": "ipython",
    "version": 3
   },
   "file_extension": ".py",
   "mimetype": "text/x-python",
   "name": "python",
   "nbconvert_exporter": "python",
   "pygments_lexer": "ipython3",
   "version": "3.12.4"
  }
 },
 "nbformat": 4,
 "nbformat_minor": 2
}
